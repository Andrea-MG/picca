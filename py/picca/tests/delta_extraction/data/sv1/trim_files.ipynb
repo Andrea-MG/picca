{
 "cells": [
  {
   "cell_type": "code",
   "execution_count": 113,
   "id": "8bc5b55b-e0e2-4570-9cf0-490ea719dc2a",
   "metadata": {},
   "outputs": [
    {
     "data": {
      "text/plain": [
       "array([ 39633495605117776,  39633491545030901,  39633493587656875,\n",
       "        39633493591851198,  39633495605119935,  39633491545031256,\n",
       "        39633493587657805,  39633491545030702,  39633497601607277,\n",
       "        39633495605119752,  39633497609994880,  39633497597413664,\n",
       "        39633497597413949,  39633497597413011,  39633499577125885,\n",
       "        39633493591852133,  39633499572932649,  39633499572931368,\n",
       "        39633497601608817,  39633497609996860,  39633495617700085,\n",
       "        39633495613507218,  39633499572931945,  39633495609312400,\n",
       "        39633497614190289,  39633497614189735,  39633493591851733,\n",
       "        39633478723044513,  39633480916668425,  39633483093511065,\n",
       "        39633487359116079,  39633485245186634,  39633485240993119,\n",
       "        39633485232604190,  39633485232605672,  39633487371699188,\n",
       "       616094239675122420,  39633489464658033,  39633493583463661,\n",
       "        39633489473045106,  39633489464658242,  39633493583465214,\n",
       "        39633491540837630,  39633491540838097,  39633493583465123,\n",
       "        39633493583464408,  39633489468851130,  39633493579271075,\n",
       "        39633491536644232, 616094245882692041,  39633493579268963,\n",
       "        39633491540839435,  39633559463397282,  39633559467591522,\n",
       "        39633559463398815,  39633559467592484,  39633560340006508,\n",
       "        39633561178870058,  39633561174674576,  39633560331617316,\n",
       "        39633562000951961,  39633561183060922,  39632936152073654])"
      ]
     },
     "execution_count": 113,
     "metadata": {},
     "output_type": "execute_result"
    }
   ],
   "source": [
    "catalogue = fits.open(\"../QSO_cat_fuji_dark_healpix.fits.gz\")\n",
    "selected_targetids = catalogue[1].data[\"TARGETID\"][np.where(catalogue[1].data[\"Z\"] >= 2.0)]\n",
    "selected_targetids"
   ]
  },
  {
   "cell_type": "code",
   "execution_count": 114,
   "id": "efd4bc70-592f-4189-9e9d-55c56b85a435",
   "metadata": {},
   "outputs": [],
   "source": [
    "sv_files = [\"dark/79/7941/coadd-sv1-dark-7941.fits\",\n",
    "            \"dark/79/7952/coadd-sv1-dark-7952.fits\",\n",
    "            \"dark/79/7953/coadd-sv1-dark-7953.fits\",\n",
    "            \"dark/81/8139/coadd-sv1-dark-8139.fits\",\n",
    "            \"../sv3/dark/91/9144/coadd-sv3-dark-9144.fits\",\n",
    "           ]"
   ]
  },
  {
   "cell_type": "code",
   "execution_count": 115,
   "id": "e7744ea1-3b94-411a-8cd6-a4e09c257770",
   "metadata": {},
   "outputs": [],
   "source": [
    "for file in sv_files:\n",
    "    hdul = fits.open(file)\n",
    "    try:\n",
    "        del hdul[\"EXP_FIBERMAP\"]\n",
    "    except:\n",
    "        pass\n",
    "    pos = np.where(np.isin(hdul[\"fibermap\"].data[\"TARGETID\"], catalogue[1].data[\"TARGETID\"]))\n",
    "\n",
    "    # remove unused rows\n",
    "    names = [\"FIBERMAP\", \"SCORES\", \n",
    "             \"B_FLUX\", \"B_IVAR\", \"B_MASK\", \"B_RESOLUTION\", \n",
    "             \"R_FLUX\", \"R_IVAR\", \"R_MASK\", \"R_RESOLUTION\", \n",
    "             \"Z_FLUX\", \"Z_IVAR\", \"Z_MASK\", \"Z_RESOLUTION\",\n",
    "            ]\n",
    "    for name in names:\n",
    "        hdul[name].data = hdul[name].data[pos]\n",
    "        if name.startswith(\"B\") or name.startswith(\"R\") or name.startswith(\"Z\"):\n",
    "            try:\n",
    "                del hdul[name].header[\"CHECKSUM\"]\n",
    "                del hdul[name].header[\"DATASUM\"]\n",
    "            except:\n",
    "                pass\n",
    "\n",
    "    # remove unused columns in FIBERMAP\n",
    "    cols = [\n",
    "        fits.Column(name=\"TARGETID\",\n",
    "                    format=\"K\",\n",
    "                    array= hdul[\"FIBERMAP\"].data[\"TARGETID\"],\n",
    "                   ),\n",
    "    ]\n",
    "    hdu = fits.BinTableHDU.from_columns(cols, name=\"FIBERMAP\")\n",
    "    hdul[\"FIBERMAP\"] = hdu\n",
    "\n",
    "    # remove unused columns in SCORES\n",
    "    cols = [\n",
    "        fits.Column(name=\"TARGETID\",\n",
    "                    format=\"K\",\n",
    "                    array= hdul[\"FIBERMAP\"].data[\"TARGETID\"],\n",
    "                   ),\n",
    "        fits.Column(name=\"TSNR2_LYA_B\",\n",
    "                    format=\"E\",\n",
    "                    array= hdul[\"SCORES\"].data[\"TSNR2_LYA_B\"],\n",
    "                   ),\n",
    "        fits.Column(name=\"TSNR2_LYA_R\",\n",
    "                    format=\"E\",\n",
    "                    array= hdul[\"SCORES\"].data[\"TSNR2_LYA_R\"],\n",
    "                   ),\n",
    "        fits.Column(name=\"TSNR2_LYA_Z\",\n",
    "                    format=\"E\",\n",
    "                    array= hdul[\"SCORES\"].data[\"TSNR2_LYA_Z\"],\n",
    "                   ),\n",
    "    ]\n",
    "    hdu2 = fits.BinTableHDU.from_columns(cols, name=\"SCORES\")\n",
    "    hdul[\"SCORES\"] = hdu2\n",
    "\n",
    "    hdul.writeto(file, overwrite=True)"
   ]
  },
  {
   "cell_type": "code",
   "execution_count": null,
   "id": "6ae4bc9a-824a-4379-a1c2-f6ba7cdc2c48",
   "metadata": {},
   "outputs": [],
   "source": []
  }
 ],
 "metadata": {
  "kernelspec": {
   "display_name": "Python 3 (ipykernel)",
   "language": "python",
   "name": "python3"
  },
  "language_info": {
   "codemirror_mode": {
    "name": "ipython",
    "version": 3
   },
   "file_extension": ".py",
   "mimetype": "text/x-python",
   "name": "python",
   "nbconvert_exporter": "python",
   "pygments_lexer": "ipython3",
   "version": "3.9.5"
  }
 },
 "nbformat": 4,
 "nbformat_minor": 5
}
